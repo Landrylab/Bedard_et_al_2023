{
 "cells": [
  {
   "cell_type": "code",
   "execution_count": null,
   "id": "b597b9aa",
   "metadata": {},
   "outputs": [],
   "source": [
    "##Goal : Playing with coding sequences"
   ]
  },
  {
   "cell_type": "code",
   "execution_count": 12,
   "id": "d974ef48",
   "metadata": {},
   "outputs": [
    {
     "data": {
      "text/plain": [
       "'MRSIDRSRAQL'"
      ]
     },
     "execution_count": 12,
     "metadata": {},
     "output_type": "execute_result"
    }
   ],
   "source": [
    "##This is a function to translate\n",
    "\n",
    "def translate(seq):\n",
    "      \n",
    "    table = {\n",
    "        'ATA':'I', 'ATC':'I', 'ATT':'I', 'ATG':'M',\n",
    "        'ACA':'T', 'ACC':'T', 'ACG':'T', 'ACT':'T',\n",
    "        'AAC':'N', 'AAT':'N', 'AAA':'K', 'AAG':'K',\n",
    "        'AGC':'S', 'AGT':'S', 'AGA':'R', 'AGG':'R',                \n",
    "        'CTA':'L', 'CTC':'L', 'CTG':'L', 'CTT':'L',\n",
    "        'CCA':'P', 'CCC':'P', 'CCG':'P', 'CCT':'P',\n",
    "        'CAC':'H', 'CAT':'H', 'CAA':'Q', 'CAG':'Q',\n",
    "        'CGA':'R', 'CGC':'R', 'CGG':'R', 'CGT':'R',\n",
    "        'GTA':'V', 'GTC':'V', 'GTG':'V', 'GTT':'V',\n",
    "        'GCA':'A', 'GCC':'A', 'GCG':'A', 'GCT':'A',\n",
    "        'GAC':'D', 'GAT':'D', 'GAA':'E', 'GAG':'E',\n",
    "        'GGA':'G', 'GGC':'G', 'GGG':'G', 'GGT':'G',\n",
    "        'TCA':'S', 'TCC':'S', 'TCG':'S', 'TCT':'S',\n",
    "        'TTC':'F', 'TTT':'F', 'TTA':'L', 'TTG':'L',\n",
    "        'TAC':'Y', 'TAT':'Y', 'TAA':'_', 'TAG':'_',\n",
    "        'TGC':'C', 'TGT':'C', 'TGA':'_', 'TGG':'W',\n",
    "    }\n",
    "    protein =\"\"\n",
    "    if len(seq)%3 == 0:\n",
    "        for i in range(0, len(seq), 3):\n",
    "            codon = seq[i:i + 3]\n",
    "            protein+= table[codon]\n",
    "    return protein\n",
    "\n",
    "translate(\"ATGCGATCGATCGATCGATCGCGCGCGCAGCTA\")"
   ]
  },
  {
   "cell_type": "code",
   "execution_count": 16,
   "id": "d34c12f6",
   "metadata": {},
   "outputs": [],
   "source": [
    "##Creating a codons list and table\n",
    "\n",
    "bases = \"tcag\"\n",
    "codons = [a + b + c for a in bases for b in bases for c in bases]\n",
    "amino_acids = 'FFLLSSSSYY**CC*WLLLLPPPPHHQQRRRRIIIMTTTTNNKKSSRRVVVVAAAADDEEGGGG'\n",
    "codon_table = dict(zip(codons, amino_acids))"
   ]
  },
  {
   "cell_type": "code",
   "execution_count": 10,
   "id": "0408d10b",
   "metadata": {},
   "outputs": [
    {
     "name": "stdout",
     "output_type": "stream",
     "text": [
      "0\n",
      "3\n",
      "15\n"
     ]
    }
   ],
   "source": [
    "##This is to find codons in a sequence\n",
    "\n",
    "def findcodons(dna, codon) :\n",
    "    for i in range(0, len(dna), 3):\n",
    "        cod = dna[i:i+3]\n",
    "        if cod == codon:\n",
    "            print(str(i))\n",
    "\n",
    "findcodons(\"ATGCGATCGATCGATCGATCGCGCGCGCAGCTA\", \"ATG\")\n",
    "findcodons(\"ATGCGATCGATCGATCGATCGCGCGCGCAGCTA\", \"CGA\")"
   ]
  },
  {
   "cell_type": "code",
   "execution_count": 172,
   "id": "b8ea8013",
   "metadata": {},
   "outputs": [],
   "source": [
    "##A function to find the occurence of each codons in a coding sequence\n",
    "\n",
    "def codonsoccurence(dna):\n",
    "\n",
    "    from collections import Counter\n",
    "    \n",
    "    bases = \"TCAG\"\n",
    "    codons = [a + b + c for a in bases for b in bases for c in bases]\n",
    "    amino_acids = 'FFLLSSSSYY**CC*WLLLLPPPPHHQQRRRRIIIMTTTTNNKKSSRRVVVVAAAADDEEGGGG'\n",
    "    codon_table = dict(zip(codons, amino_acids))\n",
    "    \n",
    "    list = []\n",
    "    if len(dna)%3 == 0:\n",
    "        for i in range(0, len(dna), 3):\n",
    "            codon = dna[i:i + 3]\n",
    "            list.append(codon)\n",
    "        occurences = Counter(list)\n",
    "        \n",
    "    dict2_sorted = {i:occurences[i] for i in codon_table.keys()}\n",
    "\n",
    "    keys = codon_table.keys()\n",
    "    values = zip(codon_table.values(), dict2_sorted.values())\n",
    "    dictionary = dict(zip(keys, values))\n",
    "        \n",
    "    return dictionary"
   ]
  },
  {
   "cell_type": "code",
   "execution_count": 173,
   "id": "4b63ef67",
   "metadata": {},
   "outputs": [
    {
     "data": {
      "text/plain": [
       "{'TTT': ('F', 9),\n",
       " 'TTC': ('F', 18),\n",
       " 'TTA': ('L', 14),\n",
       " 'TTG': ('L', 31),\n",
       " 'TCT': ('S', 16),\n",
       " 'TCC': ('S', 6),\n",
       " 'TCA': ('S', 5),\n",
       " 'TCG': ('S', 0),\n",
       " 'TAT': ('Y', 6),\n",
       " 'TAC': ('Y', 23),\n",
       " 'TAA': ('*', 1),\n",
       " 'TAG': ('*', 0),\n",
       " 'TGT': ('C', 4),\n",
       " 'TGC': ('C', 0),\n",
       " 'TGA': ('*', 0),\n",
       " 'TGG': ('W', 7),\n",
       " 'CTT': ('L', 1),\n",
       " 'CTC': ('L', 0),\n",
       " 'CTA': ('L', 6),\n",
       " 'CTG': ('L', 0),\n",
       " 'CCT': ('P', 8),\n",
       " 'CCC': ('P', 0),\n",
       " 'CCA': ('P', 22),\n",
       " 'CCG': ('P', 0),\n",
       " 'CAT': ('H', 6),\n",
       " 'CAC': ('H', 12),\n",
       " 'CAA': ('Q', 16),\n",
       " 'CAG': ('Q', 1),\n",
       " 'CGT': ('R', 5),\n",
       " 'CGC': ('R', 0),\n",
       " 'CGA': ('R', 0),\n",
       " 'CGG': ('R', 0),\n",
       " 'ATT': ('I', 18),\n",
       " 'ATC': ('I', 13),\n",
       " 'ATA': ('I', 2),\n",
       " 'ATG': ('M', 18),\n",
       " 'ACT': ('T', 18),\n",
       " 'ACC': ('T', 8),\n",
       " 'ACA': ('T', 2),\n",
       " 'ACG': ('T', 0),\n",
       " 'AAT': ('N', 5),\n",
       " 'AAC': ('N', 13),\n",
       " 'AAA': ('K', 8),\n",
       " 'AAG': ('K', 29),\n",
       " 'AGT': ('S', 3),\n",
       " 'AGC': ('S', 2),\n",
       " 'AGA': ('R', 20),\n",
       " 'AGG': ('R', 0),\n",
       " 'GTT': ('V', 17),\n",
       " 'GTC': ('V', 10),\n",
       " 'GTA': ('V', 2),\n",
       " 'GTG': ('V', 6),\n",
       " 'GCT': ('A', 19),\n",
       " 'GCC': ('A', 6),\n",
       " 'GCA': ('A', 5),\n",
       " 'GCG': ('A', 0),\n",
       " 'GAT': ('D', 18),\n",
       " 'GAC': ('D', 7),\n",
       " 'GAA': ('E', 27),\n",
       " 'GAG': ('E', 4),\n",
       " 'GGT': ('G', 31),\n",
       " 'GGC': ('G', 0),\n",
       " 'GGA': ('G', 3),\n",
       " 'GGG': ('G', 0)}"
      ]
     },
     "execution_count": 173,
     "metadata": {},
     "output_type": "execute_result"
    }
   ],
   "source": [
    "#try with S.c ERG11 coding sequence\n",
    "erg11_codons_dict = codonsoccurence(\"ATGTCTGCTACCAAGTCAATCGTTGGAGAGGCATTGGAATACGTAAACATTGGTTTAAGTCATTTCTTGGCTTTACCATTGGCCCAAAGAATCTCTTTGATCATAATAATTCCTTTCATTTACAATATTGTATGGCAATTACTATATTCTTTGAGAAAGGACCGTCCACCTCTAGTGTTTTACTGGATTCCATGGGTCGGTAGTGCTGTTGTGTACGGTATGAAGCCATACGAGTTTTTCGAAGAATGTCAAAAGAAATACGGTGATATTTTTTCATTCGTTTTGTTAGGAAGAGTCATGACTGTGTATTTAGGACCAAAGGGTCACGAATTTGTCTTCAACGCTAAGTTGGCAGATGTTTCAGCAGAAGCTGCTTACGCTCATTTGACTACTCCAGTTTTCGGTAAAGGTGTTATTTACGATTGTCCAAATTCTAGATTGATGGAGCAAAAGAAGTTTGTTAAGGGTGCTCTAACCAAAGAAGCCTTCAAGAGCTACGTTCCATTGATTGCTGAAGAAGTGTACAAGTACTTCAGAGACTCCAAAAACTTCCGTTTGAATGAAAGAACTACTGGTACTATTGACGTGATGGTTACTCAACCTGAAATGACTATTTTCACCGCTTCAAGATCATTATTGGGTAAGGAAATGAGAGCAAAATTGGATACCGATTTTGCTTACTTGTACAGTGATTTGGATAAGGGTTTCACTCCAATCAACTTCGTCTTCCCTAACTTACCATTGGAACACTATAGAAAGAGAGATCACGCTCAAAAGGCTATCTCCGGTACTTACATGTCTTTGATTAAGGAAAGAAGAAAGAACAACGACATTCAAGACAGAGATTTGATCGATTCCTTGATGAAGAACTCTACCTACAAGGATGGTGTGAAGATGACTGATCAAGAAATCGCTAACTTGTTAATTGGTGTCTTAATGGGTGGTCAACATACTTCTGCTGCCACTTCTGCTTGGATTTTGTTGCACTTGGCTGAAAGACCAGATGTCCAACAAGAATTGTACGAAGAACAAATGCGTGTTTTGGATGGTGGTAAGAAGGAATTGACCTACGATTTATTACAAGAAATGCCATTGTTGAACCAAACTATTAAGGAAACTCTAAGAATGCACCATCCATTGCACTCTTTGTTCCGTAAGGTTATGAAAGATATGCACGTTCCAAACACTTCTTATGTCATCCCAGCAGGTTATCACGTTTTGGTTTCTCCAGGTTACACTCATTTAAGAGACGAATACTTCCCTAATGCTCACCAATTCAACATTCACCGTTGGAACAAAGATTCTGCCTCCTCTTATTCCGTCGGTGAAGAAGTCGATTACGGTTTCGGTGCCATTTCTAAGGGTGTCAGCTCTCCATACTTACCTTTCGGTGGTGGTAGACACAGATGTATCGGTGAACACTTTGCTTACTGTCAGCTAGGTGTTCTAATGTCCATTTTTATCAGAACATTAAAATGGCATTACCCAGAGGGTAAGACCGTTCCACCTCCTGACTTTACATCTATGGTTACTCTTCCAACCGGTCCAGCCAAGATCATCTGGGAAAAGAGAAATCCAGAACAAAAGATCTAA\")\n",
    "erg11_codons_dict"
   ]
  },
  {
   "cell_type": "code",
   "execution_count": 177,
   "id": "f71831f6",
   "metadata": {},
   "outputs": [],
   "source": [
    "import pandas as pd\n",
    "\n",
    "pd.DataFrame.from_dict(data=erg11_codons_dict, orient='index').to_csv('erg11_codon_occurence_CB_2021-09-14.csv', header=False)"
   ]
  }
 ],
 "metadata": {
  "kernelspec": {
   "display_name": "Python 3",
   "language": "python",
   "name": "python3"
  },
  "language_info": {
   "codemirror_mode": {
    "name": "ipython",
    "version": 3
   },
   "file_extension": ".py",
   "mimetype": "text/x-python",
   "name": "python",
   "nbconvert_exporter": "python",
   "pygments_lexer": "ipython3",
   "version": "3.8.8"
  }
 },
 "nbformat": 4,
 "nbformat_minor": 5
}
